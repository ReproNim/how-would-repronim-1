{
 "cells": [
  {
   "cell_type": "markdown",
   "metadata": {},
   "source": [
    "# How would ReproNim do that?\n",
    "## Volume 1: nifti file: container: result: publish\n",
    "\n",
    "This is the companion Jupyter notebook to [*How would ReproNim do that Volume 1*](https://docs.google.com/document/d/1L4ODHVp36NilWQRi3gDYQK_N58ZXpMKqHagv0ZmtkbA/edit#heading=h.1z04rarws9nl).\n",
    "\n",
    "*Note: this is a limited notebook.  Its notes are sparser than those found in the source document, no images are generated, and it stops short of the data publishing step.*\n",
    "\n",
    "Common runtimes are under one minute for `datalad containers-add`, 15 minutes for the first kwyk run, and 25 minutes for the second kwyk run."
   ]
  },
  {
   "cell_type": "markdown",
   "metadata": {},
   "source": [
    "### Step 1: Your image file should be under content management.\n",
    "\n",
    "We check the datalad version, then create the datalad project.  We then copy an image file to the project directory and put it under content management using datalad."
   ]
  },
  {
   "cell_type": "code",
   "execution_count": null,
   "metadata": {},
   "outputs": [],
   "source": [
    "datalad --version"
   ]
  },
  {
   "cell_type": "code",
   "execution_count": null,
   "metadata": {},
   "outputs": [],
   "source": [
    "datalad create reprokwyk"
   ]
  },
  {
   "cell_type": "code",
   "execution_count": null,
   "metadata": {},
   "outputs": [],
   "source": [
    "cd reprokwyk"
   ]
  },
  {
   "cell_type": "code",
   "execution_count": null,
   "metadata": {},
   "outputs": [],
   "source": [
    "cp ../anat.nii ."
   ]
  },
  {
   "cell_type": "code",
   "execution_count": null,
   "metadata": {},
   "outputs": [],
   "source": [
    "datalad add -m \"Added my favorite anatomy file\" anat.nii"
   ]
  },
  {
   "cell_type": "markdown",
   "metadata": {},
   "source": [
    "### Step 2: Your container should be under content management.\n",
    "\n",
    "We put the kwyk container that we intend to use under content management using datalad."
   ]
  },
  {
   "cell_type": "code",
   "execution_count": null,
   "metadata": {},
   "outputs": [],
   "source": [
    "datalad containers-add -i kwyk-img -u dhub://neuronets/kwyk:latest-cpu kwyk"
   ]
  },
  {
   "cell_type": "markdown",
   "metadata": {},
   "source": [
    "We check the version of the kwyk container, first using docker directly, then using datalad."
   ]
  },
  {
   "cell_type": "code",
   "execution_count": null,
   "metadata": {},
   "outputs": [],
   "source": [
    "docker run -it --rm neuronets/kwyk:latest-cpu --version"
   ]
  },
  {
   "cell_type": "code",
   "execution_count": null,
   "metadata": {},
   "outputs": [],
   "source": [
    "datalad containers-run -n kwyk -- --version"
   ]
  },
  {
   "cell_type": "markdown",
   "metadata": {},
   "source": [
    "### Step 3: Have datalad run the container on the data."
   ]
  },
  {
   "cell_type": "code",
   "execution_count": null,
   "metadata": {},
   "outputs": [],
   "source": [
    "datalad containers-run -n kwyk --input anat.nii --output kwyk-output.nii.gz '{inputs}' '{outputs}'"
   ]
  },
  {
   "cell_type": "markdown",
   "metadata": {},
   "source": [
    "In this example, we generated two output files:\n",
    "* kwyk-output.nii.gz_means.ini.gz\n",
    "* kwyk-output.nii.gz_means_orig.nii.gz\n",
    "These are then automatically put under content management by datalad (`add (ok: 2)`)."
   ]
  },
  {
   "cell_type": "markdown",
   "metadata": {},
   "source": [
    "We try again using the bvwm_multi_prior model for prediction, but first we must remove the output files.  Since this is a content management task, we do that using datalad."
   ]
  },
  {
   "cell_type": "code",
   "execution_count": null,
   "metadata": {},
   "outputs": [],
   "source": [
    "datalad remove kwyk-output* --nocheck"
   ]
  },
  {
   "cell_type": "markdown",
   "metadata": {},
   "source": [
    "Now we rerun the analysis using the bvwm_multi_prior model."
   ]
  },
  {
   "cell_type": "code",
   "execution_count": null,
   "metadata": {},
   "outputs": [],
   "source": [
    "datalad containers-run -n kwyk --input anat.nii --output \"kwyk-output*\" -- -m bvwn_multi_prior '{inputs}' 'kwyk-output.nii.gz'"
   ]
  },
  {
   "cell_type": "markdown",
   "metadata": {},
   "source": [
    "Let's see what happened and what datalad gave us over running this in the traditional manner.\n",
    "\n",
    "We use git to see the history of an output, `kwyk-output.nii.gz_means_orig.nii.gz`, and see that it was created using our first run, then removed, then created again during our second run.\n",
    "\n",
    "The history is shown with the latest event first."
   ]
  },
  {
   "cell_type": "code",
   "execution_count": null,
   "metadata": {},
   "outputs": [],
   "source": [
    "git log kwyk-output.nii.gz_means_orig.nii"
   ]
  }
 ],
 "metadata": {
  "kernelspec": {
   "display_name": "Bash",
   "language": "bash",
   "name": "bash"
  },
  "language_info": {
   "codemirror_mode": "shell",
   "file_extension": ".sh",
   "mimetype": "text/x-sh",
   "name": "bash"
  }
 },
 "nbformat": 4,
 "nbformat_minor": 2
}
